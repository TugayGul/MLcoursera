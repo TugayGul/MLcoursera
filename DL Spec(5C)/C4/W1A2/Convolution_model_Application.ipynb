{
 "cells": [
  {
   "cell_type": "markdown",
   "metadata": {},
   "source": [
    "# Convolutional Neural Networks: Application\n",
    "\n",
    "Welcome to Course 4's second assignment! In this notebook, you will:\n",
    "\n",
    "- Create a mood classifer using the TF Keras Sequential API\n",
    "- Build a ConvNet to identify sign language digits using the TF Keras Functional API\n",
    "\n",
    "**After this assignment you will be able to:**\n",
    "\n",
    "- Build and train a ConvNet in TensorFlow for a __binary__ classification problem\n",
    "- Build and train a ConvNet in TensorFlow for a __multiclass__ classification problem\n",
    "- Explain different use cases for the Sequential and Functional APIs\n",
    "\n",
    "To complete this assignment, you should already be familiar with TensorFlow. If you are not, please refer back to the **TensorFlow Tutorial** of the third week of Course 2 (\"**Improving deep neural networks**\").\n",
    "\n",
    "## Important Note on Submission to the AutoGrader\n",
    "\n",
    "Before submitting your assignment to the AutoGrader, please make sure you are not doing the following:\n",
    "\n",
    "1. You have not added any _extra_ `print` statement(s) in the assignment.\n",
    "2. You have not added any _extra_ code cell(s) in the assignment.\n",
    "3. You have not changed any of the function parameters.\n",
    "4. You are not using any global variables inside your graded exercises. Unless specifically instructed to do so, please refrain from it and use the local variables instead.\n",
    "5. You are not changing the assignment code where it is not required, like creating _extra_ variables.\n",
    "\n",
    "If you do any of the following, you will get something like, `Grader not found` (or similarly unexpected) error upon submitting your assignment. Before asking for help/debugging the errors in your assignment, check for these first. If this is the case, and you don't remember the changes you have made, you can get a fresh copy of the assignment by following these [instructions](https://www.coursera.org/learn/convolutional-neural-networks/supplement/DS4yP/h-ow-to-refresh-your-workspace)."
   ]
  },
  {
   "cell_type": "markdown",
   "metadata": {},
   "source": [
    "## Table of Contents\n",
    "\n",
    "- [1 - Packages](#1)\n",
    "    - [1.1 - Load the Data and Split the Data into Train/Test Sets](#1-1)\n",
    "- [2 - Layers in TF Keras](#2)\n",
    "- [3 - The Sequential API](#3)\n",
    "    - [3.1 - Create the Sequential Model](#3-1)\n",
    "        - [Exercise 1 - happyModel](#ex-1)\n",
    "    - [3.2 - Train and Evaluate the Model](#3-2)\n",
    "- [4 - The Functional API](#4)\n",
    "    - [4.1 - Load the SIGNS Dataset](#4-1)\n",
    "    - [4.2 - Split the Data into Train/Test Sets](#4-2)\n",
    "    - [4.3 - Forward Propagation](#4-3)\n",
    "        - [Exercise 2 - convolutional_model](#ex-2)\n",
    "    - [4.4 - Train the Model](#4-4)\n",
    "- [5 - History Object](#5)\n",
    "- [6 - Bibliography](#6)"
   ]
  },
  {
   "cell_type": "markdown",
   "metadata": {},
   "source": [
    "<a name='1'></a>\n",
    "## 1 - Packages\n",
    "\n",
    "As usual, begin by loading in the packages."
   ]
  },
  {
   "cell_type": "code",
   "execution_count": 6,
   "metadata": {},
   "outputs": [],
   "source": [
    "import math\n",
    "import numpy as np\n",
    "import h5py\n",
    "import matplotlib.pyplot as plt\n",
    "from matplotlib.pyplot import imread\n",
    "import scipy\n",
    "from PIL import Image\n",
    "import pandas as pd\n",
    "import tensorflow as tf\n",
    "import tensorflow.keras.layers as tfl\n",
    "from tensorflow.python.framework import ops\n",
    "from cnn_utils import *\n",
    "from test_utils import summary, comparator\n",
    "\n",
    "%matplotlib inline\n",
    "np.random.seed(1)"
   ]
  },
  {
   "cell_type": "markdown",
   "metadata": {},
   "source": [
    "<a name='1-1'></a>\n",
    "### 1.1 - Load the Data and Split the Data into Train/Test Sets\n",
    "\n",
    "You'll be using the Happy House dataset for this part of the assignment, which contains images of peoples' faces. Your task will be to build a ConvNet that determines whether the people in the images are smiling or not -- because they only get to enter the house if they're smiling!  "
   ]
  },
  {
   "cell_type": "code",
   "execution_count": 7,
   "metadata": {},
   "outputs": [
    {
     "name": "stdout",
     "output_type": "stream",
     "text": [
      "number of training examples = 600\n",
      "number of test examples = 150\n",
      "X_train shape: (600, 64, 64, 3)\n",
      "Y_train shape: (600, 1)\n",
      "X_test shape: (150, 64, 64, 3)\n",
      "Y_test shape: (150, 1)\n"
     ]
    }
   ],
   "source": [
    "X_train_orig, Y_train_orig, X_test_orig, Y_test_orig, classes = load_happy_dataset()\n",
    "\n",
    "# Normalize image vectors\n",
    "X_train = X_train_orig/255.\n",
    "X_test = X_test_orig/255.\n",
    "\n",
    "# Reshape\n",
    "Y_train = Y_train_orig.T\n",
    "Y_test = Y_test_orig.T\n",
    "\n",
    "print (\"number of training examples = \" + str(X_train.shape[0]))\n",
    "print (\"number of test examples = \" + str(X_test.shape[0]))\n",
    "print (\"X_train shape: \" + str(X_train.shape))\n",
    "print (\"Y_train shape: \" + str(Y_train.shape))\n",
    "print (\"X_test shape: \" + str(X_test.shape))\n",
    "print (\"Y_test shape: \" + str(Y_test.shape))"
   ]
  },
  {
   "cell_type": "markdown",
   "metadata": {},
   "source": [
    "You can display the images contained in the dataset. Images are **64x64** pixels in RGB format (3 channels)."
   ]
  },
  {
   "cell_type": "code",
   "execution_count": 8,
   "metadata": {},
   "outputs": [
    {
     "data": {
      "text/plain": "<Figure size 640x480 with 1 Axes>",
      "image/png": "[encoded data removed]"
     },
     "metadata": {},
     "output_type": "display_data"
    }
   ],
   "source": [
    "index = 124\n",
    "plt.imshow(X_train_orig[index]) #display sample training image\n",
    "plt.show()"
   ]
  },
  {
   "cell_type": "markdown",
   "metadata": {},
   "source": [
    "<a name='2'></a>\n",
    "## 2 - Layers in TF Keras \n",
    "\n",
    "In the previous assignment, you created layers manually in numpy. In TF Keras, you don't have to write code directly to create layers. Rather, TF Keras has pre-defined layers you can use. \n",
    "\n",
    "When you create a layer in TF Keras, you are creating a function that takes some input and transforms it into an output you can reuse later. Nice and easy! "
   ]
  },
  {
   "cell_type": "markdown",
   "metadata": {},
   "source": [
    "<a name='3'></a>\n",
    "## 3 - The Sequential API\n",
    "\n",
    "In the previous assignment, you built helper functions using `numpy` to understand the mechanics behind convolutional neural networks. Most practical applications of deep learning today are built using programming frameworks, which have many built-in functions you can simply call. Keras is a high-level abstraction built on top of TensorFlow, which allows for even more simplified and optimized model creation and training. \n",
    "\n",
    "For the first part of this assignment, you'll create a model using TF Keras' Sequential API, which allows you to build layer by layer, and is ideal for building models where each layer has **exactly one** input tensor and **one** output tensor. \n",
    "\n",
    "As you'll see, using the Sequential API is simple and straightforward, but is only appropriate for simpler, more straightforward tasks. Later in this notebook you'll spend some time building with a more flexible, powerful alternative: the Functional API. \n",
    " "
   ]
  },
  {
   "cell_type": "markdown",
   "metadata": {},
   "source": [
    "<a name='3-1'></a>\n",
    "### 3.1 - Create the Sequential Model\n",
    "\n",
    "As mentioned earlier, the TensorFlow Keras Sequential API can be used to build simple models with layer operations that proceed in a sequential order. \n",
    "\n",
    "You can also add layers incrementally to a Sequential model with the `.add()` method, or remove them using the `.pop()` method, much like you would in a regular Python list.\n",
    "\n",
    "Actually, you can think of a Sequential model as behaving like a list of layers. Like Python lists, Sequential layers are ordered, and the order in which they are specified matters.  If your model is non-linear or contains layers with multiple inputs or outputs, a Sequential model wouldn't be the right choice!\n",
    "\n",
    "For any layer construction in Keras, you'll need to specify the input shape in advance. This is because in Keras, the shape of the weights is based on the shape of the inputs. The weights are only created when the model first sees some input data. Sequential models can be created by passing a list of layers to the Sequential constructor, like you will do in the next assignment.\n",
    "\n",
    "<a name='ex-1'></a>\n",
    "### Exercise 1 - happyModel\n",
    "\n",
    "Implement the `happyModel` function below to build the following model: `ZEROPAD2D -> CONV2D -> BATCHNORM -> RELU -> MAXPOOL -> FLATTEN -> DENSE`. Take help from [tf.keras.layers](https://www.tensorflow.org/api_docs/python/tf/keras/layers) \n",
    "\n",
    "Also, plug in the following parameters for all the steps:\n",
    "\n",
    " - [ZeroPadding2D](https://www.tensorflow.org/api_docs/python/tf/keras/layers/ZeroPadding2D): padding 3, input shape 64 x 64 x 3\n",
    " - [Conv2D](https://www.tensorflow.org/api_docs/python/tf/keras/layers/Conv2D): Use 32 7x7 filters, stride 1\n",
    " - [BatchNormalization](https://www.tensorflow.org/api_docs/python/tf/keras/layers/BatchNormalization): for axis 3\n",
    " - [ReLU](https://www.tensorflow.org/api_docs/python/tf/keras/layers/ReLU)\n",
    " - [MaxPool2D](https://www.tensorflow.org/api_docs/python/tf/keras/layers/MaxPool2D): Using default parameters\n",
    " - [Flatten](https://www.tensorflow.org/api_docs/python/tf/keras/layers/Flatten) the previous output.\n",
    " - Fully-connected ([Dense](https://www.tensorflow.org/api_docs/python/tf/keras/layers/Dense)) layer: Apply a fully connected layer with 1 neuron and a sigmoid activation. \n",
    " \n",
    " \n",
    " **Hint:**\n",
    " \n",
    " Use **tfl** as shorthand for **tensorflow.keras.layers**"
   ]
  },
  {
   "cell_type": "code",
   "execution_count": 9,
   "metadata": {
    "deletable": false,
    "nbgrader": {
     "cell_type": "code",
     "checksum": "95d28b191f257bdd5b70c7b8952559d5",
     "grade": false,
     "grade_id": "cell-0e56d3fc28b69aec",
     "locked": false,
     "schema_version": 3,
     "solution": true,
     "task": false
    }
   },
   "outputs": [],
   "source": [
    "# GRADED FUNCTION: happyModel\n",
    "\n",
    "def happyModel():\n",
    "    \"\"\"\n",
    "    Implements the forward propagation for the binary classification model:\n",
    "    ZEROPAD2D -> CONV2D -> BATCHNORM -> RELU -> MAXPOOL -> FLATTEN -> DENSE\n",
    "    \n",
    "    Note that for simplicity and grading purposes, you'll hard-code all the values\n",
    "    such as the stride and kernel (filter) sizes. \n",
    "    Normally, functions should take these values as function parameters.\n",
    "    \n",
    "    Arguments:\n",
    "    None\n",
    "\n",
    "    Returns:\n",
    "    model -- TF Keras model (object containing the information for the entire training process) \n",
    "    \"\"\"\n",
    "    model = tf.keras.Sequential([\n",
    "            ## ZeroPadding2D with padding 3, input shape of 64 x 64 x 3\n",
    "            \n",
    "            ## Conv2D with 32 7x7 filters and stride of 1\n",
    "            \n",
    "            ## BatchNormalization for axis 3\n",
    "            \n",
    "            ## ReLU\n",
    "            \n",
    "            ## Max Pooling 2D with default parameters\n",
    "            \n",
    "            ## Flatten layer\n",
    "            \n",
    "            ## Dense layer with 1 unit for output & 'sigmoid' activation\n",
    "            \n",
    "            # YOUR CODE STARTS HERE\n",
    "            tfl.ZeroPadding2D(padding=3, input_shape=(64,64,3)),\n",
    "            tfl.Conv2D(32, 7, strides=(1, 1)),\n",
    "            tfl.BatchNormalization(axis=3),\n",
    "            tfl.ReLU(),\n",
    "            tfl.MaxPool2D(),\n",
    "            tfl.Flatten(),\n",
    "            tfl.Dense(1, activation='sigmoid')\n",
    "            # YOUR CODE ENDS HERE\n",
    "        ])\n",
    "    \n",
    "    return model"
   ]
  },
  {
   "cell_type": "code",
   "execution_count": 10,
   "metadata": {
    "deletable": false,
    "editable": false,
    "nbgrader": {
     "cell_type": "code",
     "checksum": "8d3575c950e2e78149be2d05d671c80d",
     "grade": true,
     "grade_id": "cell-e3e1046e5c33d775",
     "locked": true,
     "points": 10,
     "schema_version": 3,
     "solution": false,
     "task": false
    }
   },
   "outputs": [
    {
     "name": "stdout",
     "output_type": "stream",
     "text": [
      "['ZeroPadding2D', (None, 70, 70, 3), 0, ((3, 3), (3, 3))]\n",
      "['Conv2D', (None, 64, 64, 32), 4736, 'valid', 'linear', 'GlorotUniform']\n",
      "['BatchNormalization', (None, 64, 64, 32), 128]\n",
      "['ReLU', (None, 64, 64, 32), 0]\n",
      "['MaxPooling2D', (None, 32, 32, 32), 0, (2, 2), (2, 2), 'valid']\n",
      "['Flatten', (None, 32768), 0]\n",
      "['Dense', (None, 1), 32769, 'sigmoid']\n",
      "\u001B[32mAll tests passed!\u001B[0m\n"
     ]
    }
   ],
   "source": [
    "happy_model = happyModel()\n",
    "# Print a summary for each layer\n",
    "for layer in summary(happy_model):\n",
    "    print(layer)\n",
    "    \n",
    "output = [['ZeroPadding2D', (None, 70, 70, 3), 0, ((3, 3), (3, 3))],\n",
    "            ['Conv2D', (None, 64, 64, 32), 4736, 'valid', 'linear', 'GlorotUniform'],\n",
    "            ['BatchNormalization', (None, 64, 64, 32), 128],\n",
    "            ['ReLU', (None, 64, 64, 32), 0],\n",
    "            ['MaxPooling2D', (None, 32, 32, 32), 0, (2, 2), (2, 2), 'valid'],\n",
    "            ['Flatten', (None, 32768), 0],\n",
    "            ['Dense', (None, 1), 32769, 'sigmoid']]\n",
    "    \n",
    "comparator(summary(happy_model), output)"
   ]
  },
  {
   "cell_type": "markdown",
   "metadata": {},
   "source": [
    "#### Expected Output:\n",
    "\n",
    "```\n",
    "['ZeroPadding2D', (None, 70, 70, 3), 0, ((3, 3), (3, 3))]\n",
    "['Conv2D', (None, 64, 64, 32), 4736, 'valid', 'linear', 'GlorotUniform']\n",
    "['BatchNormalization', (None, 64, 64, 32), 128]\n",
    "['ReLU', (None, 64, 64, 32), 0]\n",
    "['MaxPooling2D', (None, 32, 32, 32), 0, (2, 2), (2, 2), 'valid']\n",
    "['Flatten', (None, 32768), 0]\n",
    "['Dense', (None, 1), 32769, 'sigmoid']\n",
    "All tests passed!\n",
    "```"
   ]
  },
  {
   "cell_type": "markdown",
   "metadata": {},
   "source": [
    "Now that your model is created, you can compile it for training with an optimizer and loss of your choice. When the string `accuracy` is specified as a metric, the type of accuracy used will be automatically converted based on the loss function used. This is one of the many optimizations built into TensorFlow that make your life easier! If you'd like to read more on how the compiler operates, check the docs [here](https://www.tensorflow.org/api_docs/python/tf/keras/Model#compile)."
   ]
  },
  {
   "cell_type": "code",
   "execution_count": 11,
   "metadata": {},
   "outputs": [],
   "source": [
    "happy_model.compile(optimizer='adam',\n",
    "                   loss='binary_crossentropy',\n",
    "                   metrics=['accuracy'])"
   ]
  },
  {
   "cell_type": "markdown",
   "metadata": {},
   "source": [
    "It's time to check your model's parameters with the `.summary()` method. This will display the types of layers you have, the shape of the outputs, and how many parameters are in each layer. "
   ]
  },
  {
   "cell_type": "code",
   "execution_count": 12,
   "metadata": {},
   "outputs": [
    {
     "name": "stdout",
     "output_type": "stream",
     "text": [
      "Model: \"sequential\"\n",
      "_________________________________________________________________\n",
      " Layer (type)                Output Shape              Param #   \n",
      "=================================================================\n",
      " zero_padding2d (ZeroPadding  (None, 70, 70, 3)        0         \n",
      " 2D)                                                             \n",
      "                                                                 \n",
      " conv2d (Conv2D)             (None, 64, 64, 32)        4736      \n",
      "                                                                 \n",
      " batch_normalization (BatchN  (None, 64, 64, 32)       128       \n",
      " ormalization)                                                   \n",
      "                                                                 \n",
      " re_lu (ReLU)                (None, 64, 64, 32)        0         \n",
      "                                                                 \n",
      " max_pooling2d (MaxPooling2D  (None, 32, 32, 32)       0         \n",
      " )                                                               \n",
      "                                                                 \n",
      " flatten (Flatten)           (None, 32768)             0         \n",
      "                                                                 \n",
      " dense (Dense)               (None, 1)                 32769     \n",
      "                                                                 \n",
      "=================================================================\n",
      "Total params: 37,633\n",
      "Trainable params: 37,569\n",
      "Non-trainable params: 64\n",
      "_________________________________________________________________\n"
     ]
    }
   ],
   "source": [
    "happy_model.summary()"
   ]
  },
  {
   "cell_type": "markdown",
   "metadata": {},
   "source": [
    "<a name='3-2'></a>\n",
    "### 3.2 - Train and Evaluate the Model\n",
    "\n",
    "After creating the model, compiling it with your choice of optimizer and loss function, and doing a sanity check on its contents, you are now ready to build! \n",
    "\n",
    "Simply call `.fit()` to train. That's it! No need for mini-batching, saving, or complex backpropagation computations. That's all been done for you, as you're using a TensorFlow dataset with the batches specified already. You do have the option to specify epoch number or minibatch size if you like (for example, in the case of an un-batched dataset)."
   ]
  },
  {
   "cell_type": "code",
   "execution_count": 13,
   "metadata": {},
   "outputs": [
    {
     "name": "stdout",
     "output_type": "stream",
     "text": [
      "Epoch 1/10\n",
      "38/38 [==============================] - 3s 56ms/step - loss: 0.9303 - accuracy: 0.7200\n",
      "Epoch 2/10\n",
      "38/38 [==============================] - 2s 55ms/step - loss: 0.2011 - accuracy: 0.9150\n",
      "Epoch 3/10\n",
      "38/38 [==============================] - 2s 51ms/step - loss: 0.2742 - accuracy: 0.8967\n",
      "Epoch 4/10\n",
      "38/38 [==============================] - 2s 52ms/step - loss: 0.2192 - accuracy: 0.9300\n",
      "Epoch 5/10\n",
      "38/38 [==============================] - 2s 52ms/step - loss: 0.0732 - accuracy: 0.9733\n",
      "Epoch 6/10\n",
      "38/38 [==============================] - 2s 52ms/step - loss: 0.1070 - accuracy: 0.9567\n",
      "Epoch 7/10\n",
      "38/38 [==============================] - 2s 50ms/step - loss: 0.0829 - accuracy: 0.9700\n",
      "Epoch 8/10\n",
      "38/38 [==============================] - 2s 50ms/step - loss: 0.1292 - accuracy: 0.9633\n",
      "Epoch 9/10\n",
      "38/38 [==============================] - 2s 53ms/step - loss: 0.1037 - accuracy: 0.9583\n",
      "Epoch 10/10\n",
      "38/38 [==============================] - 2s 48ms/step - loss: 0.1046 - accuracy: 0.9650\n"
     ]
    },
    {
     "data": {
      "text/plain": "<keras.callbacks.History at 0x194b86f2b50>"
     },
     "execution_count": 13,
     "metadata": {},
     "output_type": "execute_result"
    }
   ],
   "source": [
    "happy_model.fit(X_train, Y_train, epochs=10, batch_size=16)"
   ]
  },
  {
   "cell_type": "markdown",
   "metadata": {},
   "source": [
    "After that completes, just use `.evaluate()` to evaluate against your test set. This function will print the value of the loss function and the performance metrics specified during the compilation of the model. In this case, the `binary_crossentropy` and the `accuracy` respectively."
   ]
  },
  {
   "cell_type": "code",
   "execution_count": 14,
   "metadata": {},
   "outputs": [
    {
     "name": "stdout",
     "output_type": "stream",
     "text": [
      "5/5 [==============================] - 0s 25ms/step - loss: 0.1175 - accuracy: 0.9533\n"
     ]
    },
    {
     "data": {
      "text/plain": "[0.11748279631137848, 0.95333331823349]"
     },
     "execution_count": 14,
     "metadata": {},
     "output_type": "execute_result"
    }
   ],
   "source": [
    "happy_model.evaluate(X_test, Y_test)"
   ]
  },
  {
   "cell_type": "markdown",
   "metadata": {},
   "source": [
    "Easy, right? But what if you need to build a model with shared layers, branches, or multiple inputs and outputs? This is where Sequential, with its beautifully simple yet limited functionality, won't be able to help you. \n",
    "\n",
    "Next up: Enter the Functional API, your slightly more complex, highly flexible friend.  "
   ]
  },
  {
   "cell_type": "markdown",
   "metadata": {},
   "source": [
    "<a name='4'></a>\n",
    "## 4 - The Functional API"
   ]
  },
  {
   "cell_type": "markdown",
   "metadata": {},
   "source": [
    "Welcome to the second half of the assignment, where you'll use Keras' flexible [Functional API](https://www.tensorflow.org/guide/keras/functional) to build a ConvNet that can differentiate between 6 sign language digits. \n",
    "\n",
    "The Functional API can handle models with non-linear topology, shared layers, as well as layers with multiple inputs or outputs. Imagine that, where the Sequential API requires the model to move in a linear fashion through its layers, the Functional API allows much more flexibility. Where Sequential is a straight line, a Functional model is a graph, where the nodes of the layers can connect in many more ways than one. \n",
    "\n",
    "In the visual example below, the one possible direction of the movement Sequential model is shown in contrast to a skip connection, which is just one of the many ways a Functional model can be constructed. A skip connection, as you might have guessed, skips some layer in the network and feeds the output to a later layer in the network. Don't worry, you'll be spending more time with skip connections very soon! "
   ]
  },
  {
   "cell_type": "markdown",
   "metadata": {},
   "source": [
    "<img src=\"images/seq_vs_func.png\" style=\"width:350px;height:200px;\">"
   ]
  },
  {
   "cell_type": "markdown",
   "metadata": {},
   "source": [
    "<a name='4-1'></a>\n",
    "### 4.1 - Load the SIGNS Dataset\n",
    "\n",
    "As a reminder, the SIGNS dataset is a collection of 6 signs representing numbers from 0 to 5."
   ]
  },
  {
   "cell_type": "code",
   "execution_count": 15,
   "metadata": {},
   "outputs": [],
   "source": [
    "# Loading the data (signs)\n",
    "X_train_orig, Y_train_orig, X_test_orig, Y_test_orig, classes = load_signs_dataset()"
   ]
  },
  {
   "cell_type": "markdown",
   "metadata": {},
   "source": [
    "<img src=\"images/SIGNS.png\" style=\"width:800px;height:300px;\">\n",
    "\n",
    "The next cell will show you an example of a labelled image in the dataset. Feel free to change the value of `index` below and re-run to see different examples. "
   ]
  },
  {
   "cell_type": "code",
   "execution_count": 16,
   "metadata": {},
   "outputs": [
    {
     "name": "stdout",
     "output_type": "stream",
     "text": [
      "y = 4\n"
     ]
    },
    {
     "data": {
      "text/plain": "<Figure size 640x480 with 1 Axes>",
      "image/png": "[encoded data removed]"
     },
     "metadata": {},
     "output_type": "display_data"
    }
   ],
   "source": [
    "# Example of an image from the dataset\n",
    "index = 9\n",
    "plt.imshow(X_train_orig[index])\n",
    "print (\"y = \" + str(np.squeeze(Y_train_orig[:, index])))"
   ]
  },
  {
   "cell_type": "markdown",
   "metadata": {},
   "source": [
    "<a name='4-2'></a>\n",
    "### 4.2 - Split the Data into Train/Test Sets\n",
    "\n",
    "In Course 2, you built a fully-connected network for this dataset. But since this is an image dataset, it is more natural to apply a ConvNet to it.\n",
    "\n",
    "To get started, let's examine the shapes of your data. "
   ]
  },
  {
   "cell_type": "code",
   "execution_count": 17,
   "metadata": {},
   "outputs": [
    {
     "name": "stdout",
     "output_type": "stream",
     "text": [
      "number of training examples = 1080\n",
      "number of test examples = 120\n",
      "X_train shape: (1080, 64, 64, 3)\n",
      "Y_train shape: (1080, 6)\n",
      "X_test shape: (120, 64, 64, 3)\n",
      "Y_test shape: (120, 6)\n"
     ]
    }
   ],
   "source": [
    "X_train = X_train_orig/255.\n",
    "X_test = X_test_orig/255.\n",
    "Y_train = convert_to_one_hot(Y_train_orig, 6).T\n",
    "Y_test = convert_to_one_hot(Y_test_orig, 6).T\n",
    "print (\"number of training examples = \" + str(X_train.shape[0]))\n",
    "print (\"number of test examples = \" + str(X_test.shape[0]))\n",
    "print (\"X_train shape: \" + str(X_train.shape))\n",
    "print (\"Y_train shape: \" + str(Y_train.shape))\n",
    "print (\"X_test shape: \" + str(X_test.shape))\n",
    "print (\"Y_test shape: \" + str(Y_test.shape))"
   ]
  },
  {
   "cell_type": "markdown",
   "metadata": {},
   "source": [
    "<a name='4-3'></a>\n",
    "### 4.3 - Forward Propagation\n",
    "\n",
    "In TensorFlow, there are built-in functions that implement the convolution steps for you. By now, you should be familiar with how TensorFlow builds computational graphs. In the [Functional API](https://www.tensorflow.org/guide/keras/functional), you create a graph of layers. This is what allows such great flexibility.\n",
    "\n",
    "However, the following model could also be defined using the Sequential API since the information flow is on a single line. But don't deviate. What we want you to learn is to use the functional API.\n",
    "\n",
    "Begin building your graph of layers by creating an input node that functions as a callable object:\n",
    "\n",
    "- **input_img = tf.keras.Input(shape=input_shape):** \n",
    "\n",
    "Then, create a new node in the graph of layers by calling a layer on the `input_img` object: \n",
    "\n",
    "- **tf.keras.layers.Conv2D(filters= ... , kernel_size= ... , padding='same')(input_img):** Read the full documentation on [Conv2D](https://www.tensorflow.org/api_docs/python/tf/keras/layers/Conv2D).\n",
    "\n",
    "- **tf.keras.layers.MaxPool2D(pool_size=(f, f), strides=(s, s), padding='same'):** `MaxPool2D()` downsamples your input using a window of size (f, f) and strides of size (s, s) to carry out max pooling over each window.  For max pooling, you usually operate on a single example at a time and a single channel at a time. Read the full documentation on [MaxPool2D](https://www.tensorflow.org/api_docs/python/tf/keras/layers/MaxPool2D).\n",
    "\n",
    "- **tf.keras.layers.ReLU():** computes the elementwise ReLU of Z (which can be any shape). You can read the full documentation on [ReLU](https://www.tensorflow.org/api_docs/python/tf/keras/layers/ReLU).\n",
    "\n",
    "- **tf.keras.layers.Flatten()**: given a tensor \"P\", this function takes each training (or test) example in the batch and flattens it into a 1D vector.  \n",
    "\n",
    "    * If a tensor P has the shape (batch_size,h,w,c), it returns a flattened tensor with shape (batch_size, k), where $k=h \\times w \\times c$.  \"k\" equals the product of all the dimension sizes other than the first dimension.\n",
    "    \n",
    "    * For example, given a tensor with dimensions [100, 2, 3, 4], it flattens the tensor to be of shape [100, 24], where 24 = 2 * 3 * 4.  You can read the full documentation on [Flatten](https://www.tensorflow.org/api_docs/python/tf/keras/layers/Flatten).\n",
    "\n",
    "- **tf.keras.layers.Dense(units= ... , activation='softmax')(F):** given the flattened input F, it returns the output computed using a fully connected layer. You can read the full documentation on [Dense](https://www.tensorflow.org/api_docs/python/tf/keras/layers/Dense).\n",
    "\n",
    "In the last function above (`tf.keras.layers.Dense()`), the fully connected layer automatically initializes weights in the graph and keeps on training them as you train the model. Hence, you did not need to initialize those weights when initializing the parameters.\n",
    "\n",
    "Lastly, before creating the model, you'll need to define the output using the last of the function's compositions (in this example, a Dense layer): \n",
    "\n",
    "- **outputs = tf.keras.layers.Dense(units=6, activation='softmax')(F)**\n",
    "\n",
    "\n",
    "#### Window, kernel, filter, pool\n",
    "\n",
    "The words \"kernel\" and \"filter\" are used to refer to the same thing. The word \"filter\" accounts for the amount of \"kernels\" that will be used in a single convolution layer. \"Pool\" is the name of the operation that takes the max or average value of the kernels. \n",
    "\n",
    "This is why the parameter `pool_size` refers to `kernel_size`, and you use `(f,f)` to refer to the filter size. \n",
    "\n",
    "Pool size and kernel size refer to the same thing in different objects - They refer to the shape of the window where the operation takes place. "
   ]
  },
  {
   "cell_type": "markdown",
   "metadata": {},
   "source": [
    "<a name='ex-2'></a>\n",
    "### Exercise 2 - convolutional_model\n",
    "\n",
    "Implement the `convolutional_model` function below to build the following model: `CONV2D -> RELU -> MAXPOOL -> CONV2D -> RELU -> MAXPOOL -> FLATTEN -> DENSE`. Use the functions above! \n",
    "\n",
    "Also, plug in the following parameters for all the steps:\n",
    "\n",
    " - [Conv2D](https://www.tensorflow.org/api_docs/python/tf/keras/layers/Conv2D): Use 8 4 by 4 filters, stride 1, padding is \"SAME\"\n",
    " - [ReLU](https://www.tensorflow.org/api_docs/python/tf/keras/layers/ReLU)\n",
    " - [MaxPool2D](https://www.tensorflow.org/api_docs/python/tf/keras/layers/MaxPool2D): Use an 8 by 8 filter size and an 8 by 8 stride, padding is \"SAME\"\n",
    " - **Conv2D**: Use 16 2 by 2 filters, stride 1, padding is \"SAME\"\n",
    " - **ReLU**\n",
    " - **MaxPool2D**: Use a 4 by 4 filter size and a 4 by 4 stride, padding is \"SAME\"\n",
    " - [Flatten](https://www.tensorflow.org/api_docs/python/tf/keras/layers/Flatten) the previous output.\n",
    " - Fully-connected ([Dense](https://www.tensorflow.org/api_docs/python/tf/keras/layers/Dense)) layer: Apply a fully connected layer with 6 neurons and a softmax activation. "
   ]
  },
  {
   "cell_type": "code",
   "execution_count": 22,
   "metadata": {
    "deletable": false,
    "nbgrader": {
     "cell_type": "code",
     "checksum": "f58643806aa8380c96225fc8b4c5e7aa",
     "grade": false,
     "grade_id": "cell-dac51744a9e03f51",
     "locked": false,
     "schema_version": 3,
     "solution": true,
     "task": false
    }
   },
   "outputs": [],
   "source": [
    "# GRADED FUNCTION: convolutional_model\n",
    "\n",
    "def convolutional_model(input_shape):\n",
    "    \"\"\"\n",
    "    Implements the forward propagation for the model:\n",
    "    CONV2D -> RELU -> MAXPOOL -> CONV2D -> RELU -> MAXPOOL -> FLATTEN -> DENSE\n",
    "    \n",
    "    Note that for simplicity and grading purposes, you'll hard-code some values\n",
    "    such as the stride and kernel (filter) sizes. \n",
    "    Normally, functions should take these values as function parameters.\n",
    "    \n",
    "    Arguments:\n",
    "    input_img -- input dataset, of shape (input_shape)\n",
    "\n",
    "    Returns:\n",
    "    model -- TF Keras model (object containing the information for the entire training process) \n",
    "    \"\"\"\n",
    "\n",
    "    input_img = tf.keras.Input(shape=input_shape)\n",
    "    ## CONV2D: 8 filters 4x4, stride of 1, padding 'SAME'\n",
    "    # Z1 = None\n",
    "    ## RELU\n",
    "    # A1 = None\n",
    "    ## MAXPOOL: window 8x8, stride 8, padding 'SAME'\n",
    "    # P1 = None\n",
    "    ## CONV2D: 16 filters 2x2, stride 1, padding 'SAME'\n",
    "    # Z2 = None\n",
    "    ## RELU\n",
    "    # A2 = None\n",
    "    ## MAXPOOL: window 4x4, stride 4, padding 'SAME'\n",
    "    # P2 = None\n",
    "    ## FLATTEN\n",
    "    # F = None\n",
    "    ## Dense layer\n",
    "    ## 6 neurons in output layer. Hint: one of the arguments should be \"activation='softmax'\" \n",
    "    # outputs = None\n",
    "    # YOUR CODE STARTS HERE\n",
    "    ## CONV2D: 8 filters 4x4, stride of 1, padding 'SAME'\n",
    "    Z1 = tfl.Conv2D(8, 4, strides=1, padding='same')(input_img)\n",
    "    ## RELU\n",
    "    A1 = tfl.ReLU()(Z1)\n",
    "    ## MAXPOOL: window 8x8, stride 8, padding 'SAME'\n",
    "    P1 = tfl.MaxPool2D(pool_size=(8,8), strides=8, padding='same')(A1)\n",
    "    ## CONV2D: 16 filters 2x2, stride 1, padding 'SAME'\n",
    "    Z2 = tfl.Conv2D(16, 2, strides=1, padding='same')(P1)\n",
    "    ## RELU\n",
    "    A2 = tfl.ReLU()(Z2)\n",
    "    ## MAXPOOL: window 4x4, stride 4, padding 'SAME'\n",
    "    P2 = tfl.MaxPool2D(pool_size=(4,4), strides=4, padding='same')(A2)\n",
    "    ## FLATTEN\n",
    "    F = tfl.Flatten()(P2)\n",
    "    ## Dense layer\n",
    "    ## 6 neurons in output layer. Hint: one of the arguments should be \"activation='softmax'\"\n",
    "    outputs = tfl.Dense(6, activation='softmax')(F)\n",
    "    # YOUR CODE ENDS HERE\n",
    "    model = tf.keras.Model(inputs=input_img, outputs=outputs)\n",
    "    return model"
   ]
  },
  {
   "cell_type": "code",
   "execution_count": 23,
   "metadata": {
    "deletable": false,
    "editable": false,
    "nbgrader": {
     "cell_type": "code",
     "checksum": "483d626949930a0b0ef20997e7c6ba72",
     "grade": true,
     "grade_id": "cell-45d22e92042174c9",
     "locked": true,
     "points": 10,
     "schema_version": 3,
     "solution": false,
     "task": false
    }
   },
   "outputs": [
    {
     "name": "stdout",
     "output_type": "stream",
     "text": [
      "Model: \"model_1\"\n",
      "_________________________________________________________________\n",
      " Layer (type)                Output Shape              Param #   \n",
      "=================================================================\n",
      " input_3 (InputLayer)        [(None, 64, 64, 3)]       0         \n",
      "                                                                 \n",
      " conv2d_5 (Conv2D)           (None, 64, 64, 8)         392       \n",
      "                                                                 \n",
      " re_lu_5 (ReLU)              (None, 64, 64, 8)         0         \n",
      "                                                                 \n",
      " max_pooling2d_5 (MaxPooling  (None, 8, 8, 8)          0         \n",
      " 2D)                                                             \n",
      "                                                                 \n",
      " conv2d_6 (Conv2D)           (None, 8, 8, 16)          528       \n",
      "                                                                 \n",
      " re_lu_6 (ReLU)              (None, 8, 8, 16)          0         \n",
      "                                                                 \n",
      " max_pooling2d_6 (MaxPooling  (None, 2, 2, 16)         0         \n",
      " 2D)                                                             \n",
      "                                                                 \n",
      " flatten_3 (Flatten)         (None, 64)                0         \n",
      "                                                                 \n",
      " dense_3 (Dense)             (None, 6)                 390       \n",
      "                                                                 \n",
      "=================================================================\n",
      "Total params: 1,310\n",
      "Trainable params: 1,310\n",
      "Non-trainable params: 0\n",
      "_________________________________________________________________\n",
      "\u001B[32mAll tests passed!\u001B[0m\n"
     ]
    }
   ],
   "source": [
    "conv_model = convolutional_model((64, 64, 3))\n",
    "conv_model.compile(optimizer='adam',\n",
    "                  loss='categorical_crossentropy',\n",
    "                  metrics=['accuracy'])\n",
    "conv_model.summary()\n",
    "    \n",
    "output = [['InputLayer', [(None, 64, 64, 3)], 0],\n",
    "        ['Conv2D', (None, 64, 64, 8), 392, 'same', 'linear', 'GlorotUniform'],\n",
    "        ['ReLU', (None, 64, 64, 8), 0],\n",
    "        ['MaxPooling2D', (None, 8, 8, 8), 0, (8, 8), (8, 8), 'same'],\n",
    "        ['Conv2D', (None, 8, 8, 16), 528, 'same', 'linear', 'GlorotUniform'],\n",
    "        ['ReLU', (None, 8, 8, 16), 0],\n",
    "        ['MaxPooling2D', (None, 2, 2, 16), 0, (4, 4), (4, 4), 'same'],\n",
    "        ['Flatten', (None, 64), 0],\n",
    "        ['Dense', (None, 6), 390, 'softmax']]\n",
    "    \n",
    "comparator(summary(conv_model), output)"
   ]
  },
  {
   "cell_type": "markdown",
   "metadata": {},
   "source": [
    "Both the Sequential and Functional APIs return a TF Keras model object. The only difference is how inputs are handled inside the object model! "
   ]
  },
  {
   "cell_type": "markdown",
   "metadata": {},
   "source": [
    "<a name='4-4'></a>\n",
    "### 4.4 - Train the Model"
   ]
  },
  {
   "cell_type": "code",
   "execution_count": 24,
   "metadata": {},
   "outputs": [
    {
     "name": "stdout",
     "output_type": "stream",
     "text": [
      "Epoch 1/100\n",
      "17/17 [==============================] - 1s 53ms/step - loss: 1.8508 - accuracy: 0.1852 - val_loss: 1.7969 - val_accuracy: 0.1667\n",
      "Epoch 2/100\n",
      "17/17 [==============================] - 1s 46ms/step - loss: 1.7888 - accuracy: 0.1843 - val_loss: 1.7850 - val_accuracy: 0.1917\n",
      "Epoch 3/100\n",
      "17/17 [==============================] - 1s 59ms/step - loss: 1.7819 - accuracy: 0.2306 - val_loss: 1.7813 - val_accuracy: 0.2250\n",
      "Epoch 4/100\n",
      "17/17 [==============================] - 1s 45ms/step - loss: 1.7760 - accuracy: 0.2833 - val_loss: 1.7740 - val_accuracy: 0.3000\n",
      "Epoch 5/100\n",
      "17/17 [==============================] - 1s 46ms/step - loss: 1.7678 - accuracy: 0.3324 - val_loss: 1.7659 - val_accuracy: 0.3417\n",
      "Epoch 6/100\n",
      "17/17 [==============================] - 1s 43ms/step - loss: 1.7582 - accuracy: 0.3528 - val_loss: 1.7567 - val_accuracy: 0.3583\n",
      "Epoch 7/100\n",
      "17/17 [==============================] - 1s 43ms/step - loss: 1.7465 - accuracy: 0.4000 - val_loss: 1.7456 - val_accuracy: 0.4000\n",
      "Epoch 8/100\n",
      "17/17 [==============================] - 1s 45ms/step - loss: 1.7330 - accuracy: 0.4250 - val_loss: 1.7317 - val_accuracy: 0.4167\n",
      "Epoch 9/100\n",
      "17/17 [==============================] - 1s 56ms/step - loss: 1.7162 - accuracy: 0.4185 - val_loss: 1.7145 - val_accuracy: 0.4000\n",
      "Epoch 10/100\n",
      "17/17 [==============================] - 1s 43ms/step - loss: 1.6945 - accuracy: 0.4278 - val_loss: 1.6933 - val_accuracy: 0.3750\n",
      "Epoch 11/100\n",
      "17/17 [==============================] - 1s 43ms/step - loss: 1.6659 - accuracy: 0.4296 - val_loss: 1.6640 - val_accuracy: 0.4167\n",
      "Epoch 12/100\n",
      "17/17 [==============================] - 1s 45ms/step - loss: 1.6305 - accuracy: 0.4472 - val_loss: 1.6300 - val_accuracy: 0.4083\n",
      "Epoch 13/100\n",
      "17/17 [==============================] - 1s 49ms/step - loss: 1.5910 - accuracy: 0.4565 - val_loss: 1.5932 - val_accuracy: 0.3917\n",
      "Epoch 14/100\n",
      "17/17 [==============================] - 1s 47ms/step - loss: 1.5474 - accuracy: 0.4750 - val_loss: 1.5534 - val_accuracy: 0.4583\n",
      "Epoch 15/100\n",
      "17/17 [==============================] - 1s 47ms/step - loss: 1.5027 - accuracy: 0.4954 - val_loss: 1.5135 - val_accuracy: 0.4417\n",
      "Epoch 16/100\n",
      "17/17 [==============================] - 1s 53ms/step - loss: 1.4568 - accuracy: 0.5056 - val_loss: 1.4749 - val_accuracy: 0.4500\n",
      "Epoch 17/100\n",
      "17/17 [==============================] - 1s 56ms/step - loss: 1.4129 - accuracy: 0.5074 - val_loss: 1.4348 - val_accuracy: 0.4667\n",
      "Epoch 18/100\n",
      "17/17 [==============================] - 1s 48ms/step - loss: 1.3713 - accuracy: 0.5231 - val_loss: 1.3964 - val_accuracy: 0.4750\n",
      "Epoch 19/100\n",
      "17/17 [==============================] - 1s 51ms/step - loss: 1.3326 - accuracy: 0.5343 - val_loss: 1.3599 - val_accuracy: 0.4750\n",
      "Epoch 20/100\n",
      "17/17 [==============================] - 1s 51ms/step - loss: 1.2963 - accuracy: 0.5509 - val_loss: 1.3237 - val_accuracy: 0.5167\n",
      "Epoch 21/100\n",
      "17/17 [==============================] - 1s 49ms/step - loss: 1.2629 - accuracy: 0.5556 - val_loss: 1.2901 - val_accuracy: 0.5583\n",
      "Epoch 22/100\n",
      "17/17 [==============================] - 1s 44ms/step - loss: 1.2309 - accuracy: 0.5741 - val_loss: 1.2561 - val_accuracy: 0.5667\n",
      "Epoch 23/100\n",
      "17/17 [==============================] - 1s 47ms/step - loss: 1.2005 - accuracy: 0.5880 - val_loss: 1.2242 - val_accuracy: 0.5667\n",
      "Epoch 24/100\n",
      "17/17 [==============================] - 1s 45ms/step - loss: 1.1710 - accuracy: 0.6019 - val_loss: 1.1937 - val_accuracy: 0.5667\n",
      "Epoch 25/100\n",
      "17/17 [==============================] - 1s 43ms/step - loss: 1.1427 - accuracy: 0.6102 - val_loss: 1.1639 - val_accuracy: 0.5667\n",
      "Epoch 26/100\n",
      "17/17 [==============================] - 1s 44ms/step - loss: 1.1169 - accuracy: 0.6176 - val_loss: 1.1357 - val_accuracy: 0.6000\n",
      "Epoch 27/100\n",
      "17/17 [==============================] - 1s 56ms/step - loss: 1.0909 - accuracy: 0.6380 - val_loss: 1.1075 - val_accuracy: 0.6083\n",
      "Epoch 28/100\n",
      "17/17 [==============================] - 1s 43ms/step - loss: 1.0673 - accuracy: 0.6444 - val_loss: 1.0813 - val_accuracy: 0.6250\n",
      "Epoch 29/100\n",
      "17/17 [==============================] - 1s 45ms/step - loss: 1.0434 - accuracy: 0.6565 - val_loss: 1.0560 - val_accuracy: 0.6333\n",
      "Epoch 30/100\n",
      "17/17 [==============================] - 1s 44ms/step - loss: 1.0191 - accuracy: 0.6676 - val_loss: 1.0316 - val_accuracy: 0.6250\n",
      "Epoch 31/100\n",
      "17/17 [==============================] - 1s 53ms/step - loss: 0.9972 - accuracy: 0.6741 - val_loss: 1.0087 - val_accuracy: 0.6333\n",
      "Epoch 32/100\n",
      "17/17 [==============================] - 1s 46ms/step - loss: 0.9760 - accuracy: 0.6796 - val_loss: 0.9867 - val_accuracy: 0.6500\n",
      "Epoch 33/100\n",
      "17/17 [==============================] - 1s 47ms/step - loss: 0.9554 - accuracy: 0.6870 - val_loss: 0.9654 - val_accuracy: 0.6583\n",
      "Epoch 34/100\n",
      "17/17 [==============================] - 1s 53ms/step - loss: 0.9359 - accuracy: 0.6963 - val_loss: 0.9458 - val_accuracy: 0.6750\n",
      "Epoch 35/100\n",
      "17/17 [==============================] - 1s 44ms/step - loss: 0.9176 - accuracy: 0.7056 - val_loss: 0.9266 - val_accuracy: 0.6750\n",
      "Epoch 36/100\n",
      "17/17 [==============================] - 1s 43ms/step - loss: 0.8999 - accuracy: 0.7139 - val_loss: 0.9086 - val_accuracy: 0.7000\n",
      "Epoch 37/100\n",
      "17/17 [==============================] - 1s 47ms/step - loss: 0.8827 - accuracy: 0.7194 - val_loss: 0.8914 - val_accuracy: 0.7000\n",
      "Epoch 38/100\n",
      "17/17 [==============================] - 1s 45ms/step - loss: 0.8662 - accuracy: 0.7306 - val_loss: 0.8750 - val_accuracy: 0.7167\n",
      "Epoch 39/100\n",
      "17/17 [==============================] - 1s 49ms/step - loss: 0.8507 - accuracy: 0.7315 - val_loss: 0.8592 - val_accuracy: 0.7333\n",
      "Epoch 40/100\n",
      "17/17 [==============================] - 1s 52ms/step - loss: 0.8354 - accuracy: 0.7361 - val_loss: 0.8437 - val_accuracy: 0.7250\n",
      "Epoch 41/100\n",
      "17/17 [==============================] - 1s 52ms/step - loss: 0.8211 - accuracy: 0.7444 - val_loss: 0.8292 - val_accuracy: 0.7250\n",
      "Epoch 42/100\n",
      "17/17 [==============================] - 1s 50ms/step - loss: 0.8068 - accuracy: 0.7454 - val_loss: 0.8149 - val_accuracy: 0.7417\n",
      "Epoch 43/100\n",
      "17/17 [==============================] - 1s 49ms/step - loss: 0.7937 - accuracy: 0.7481 - val_loss: 0.8014 - val_accuracy: 0.7417\n",
      "Epoch 44/100\n",
      "17/17 [==============================] - 1s 50ms/step - loss: 0.7803 - accuracy: 0.7528 - val_loss: 0.7889 - val_accuracy: 0.7417\n",
      "Epoch 45/100\n",
      "17/17 [==============================] - 1s 51ms/step - loss: 0.7681 - accuracy: 0.7556 - val_loss: 0.7768 - val_accuracy: 0.7500\n",
      "Epoch 46/100\n",
      "17/17 [==============================] - 1s 49ms/step - loss: 0.7562 - accuracy: 0.7648 - val_loss: 0.7653 - val_accuracy: 0.7583\n",
      "Epoch 47/100\n",
      "17/17 [==============================] - 1s 50ms/step - loss: 0.7444 - accuracy: 0.7694 - val_loss: 0.7544 - val_accuracy: 0.7667\n",
      "Epoch 48/100\n",
      "17/17 [==============================] - 1s 50ms/step - loss: 0.7332 - accuracy: 0.7741 - val_loss: 0.7439 - val_accuracy: 0.7750\n",
      "Epoch 49/100\n",
      "17/17 [==============================] - 1s 49ms/step - loss: 0.7222 - accuracy: 0.7778 - val_loss: 0.7339 - val_accuracy: 0.7833\n",
      "Epoch 50/100\n",
      "17/17 [==============================] - 1s 49ms/step - loss: 0.7116 - accuracy: 0.7843 - val_loss: 0.7242 - val_accuracy: 0.7833\n",
      "Epoch 51/100\n",
      "17/17 [==============================] - 1s 46ms/step - loss: 0.7012 - accuracy: 0.7889 - val_loss: 0.7152 - val_accuracy: 0.7917\n",
      "Epoch 52/100\n",
      "17/17 [==============================] - 1s 45ms/step - loss: 0.6912 - accuracy: 0.7935 - val_loss: 0.7063 - val_accuracy: 0.8000\n",
      "Epoch 53/100\n",
      "17/17 [==============================] - 1s 69ms/step - loss: 0.6812 - accuracy: 0.7963 - val_loss: 0.6969 - val_accuracy: 0.8000\n",
      "Epoch 54/100\n",
      "17/17 [==============================] - 1s 60ms/step - loss: 0.6715 - accuracy: 0.7991 - val_loss: 0.6885 - val_accuracy: 0.8000\n",
      "Epoch 55/100\n",
      "17/17 [==============================] - 1s 63ms/step - loss: 0.6621 - accuracy: 0.8028 - val_loss: 0.6807 - val_accuracy: 0.8000\n",
      "Epoch 56/100\n",
      "17/17 [==============================] - 1s 69ms/step - loss: 0.6529 - accuracy: 0.8074 - val_loss: 0.6733 - val_accuracy: 0.8000\n",
      "Epoch 57/100\n",
      "17/17 [==============================] - 1s 60ms/step - loss: 0.6440 - accuracy: 0.8093 - val_loss: 0.6659 - val_accuracy: 0.8167\n",
      "Epoch 58/100\n",
      "17/17 [==============================] - 1s 69ms/step - loss: 0.6355 - accuracy: 0.8185 - val_loss: 0.6585 - val_accuracy: 0.8167\n",
      "Epoch 59/100\n",
      "17/17 [==============================] - 1s 72ms/step - loss: 0.6270 - accuracy: 0.8204 - val_loss: 0.6515 - val_accuracy: 0.8167\n",
      "Epoch 60/100\n",
      "17/17 [==============================] - 1s 65ms/step - loss: 0.6187 - accuracy: 0.8213 - val_loss: 0.6446 - val_accuracy: 0.8250\n",
      "Epoch 61/100\n",
      "17/17 [==============================] - 1s 52ms/step - loss: 0.6104 - accuracy: 0.8278 - val_loss: 0.6376 - val_accuracy: 0.8167\n",
      "Epoch 62/100\n",
      "17/17 [==============================] - 1s 67ms/step - loss: 0.6023 - accuracy: 0.8287 - val_loss: 0.6314 - val_accuracy: 0.8167\n",
      "Epoch 63/100\n",
      "17/17 [==============================] - 1s 59ms/step - loss: 0.5943 - accuracy: 0.8306 - val_loss: 0.6260 - val_accuracy: 0.8083\n",
      "Epoch 64/100\n",
      "17/17 [==============================] - 1s 61ms/step - loss: 0.5865 - accuracy: 0.8343 - val_loss: 0.6206 - val_accuracy: 0.8083\n",
      "Epoch 65/100\n",
      "17/17 [==============================] - 1s 58ms/step - loss: 0.5788 - accuracy: 0.8361 - val_loss: 0.6158 - val_accuracy: 0.8083\n",
      "Epoch 66/100\n",
      "17/17 [==============================] - 1s 52ms/step - loss: 0.5717 - accuracy: 0.8380 - val_loss: 0.6109 - val_accuracy: 0.8083\n",
      "Epoch 67/100\n",
      "17/17 [==============================] - 1s 57ms/step - loss: 0.5649 - accuracy: 0.8389 - val_loss: 0.6059 - val_accuracy: 0.8083\n",
      "Epoch 68/100\n",
      "17/17 [==============================] - 1s 51ms/step - loss: 0.5577 - accuracy: 0.8417 - val_loss: 0.6019 - val_accuracy: 0.8000\n",
      "Epoch 69/100\n",
      "17/17 [==============================] - 1s 53ms/step - loss: 0.5512 - accuracy: 0.8435 - val_loss: 0.5966 - val_accuracy: 0.8083\n",
      "Epoch 70/100\n",
      "17/17 [==============================] - 1s 50ms/step - loss: 0.5443 - accuracy: 0.8454 - val_loss: 0.5925 - val_accuracy: 0.8000\n",
      "Epoch 71/100\n",
      "17/17 [==============================] - 1s 49ms/step - loss: 0.5383 - accuracy: 0.8463 - val_loss: 0.5882 - val_accuracy: 0.8250\n",
      "Epoch 72/100\n",
      "17/17 [==============================] - 1s 49ms/step - loss: 0.5316 - accuracy: 0.8491 - val_loss: 0.5844 - val_accuracy: 0.8167\n",
      "Epoch 73/100\n",
      "17/17 [==============================] - 1s 47ms/step - loss: 0.5258 - accuracy: 0.8519 - val_loss: 0.5795 - val_accuracy: 0.8333\n",
      "Epoch 74/100\n",
      "17/17 [==============================] - 1s 48ms/step - loss: 0.5195 - accuracy: 0.8537 - val_loss: 0.5765 - val_accuracy: 0.8250\n",
      "Epoch 75/100\n",
      "17/17 [==============================] - 1s 49ms/step - loss: 0.5139 - accuracy: 0.8556 - val_loss: 0.5731 - val_accuracy: 0.8417\n",
      "Epoch 76/100\n",
      "17/17 [==============================] - 1s 46ms/step - loss: 0.5083 - accuracy: 0.8574 - val_loss: 0.5690 - val_accuracy: 0.8250\n",
      "Epoch 77/100\n",
      "17/17 [==============================] - 1s 45ms/step - loss: 0.5031 - accuracy: 0.8574 - val_loss: 0.5666 - val_accuracy: 0.8333\n",
      "Epoch 78/100\n",
      "17/17 [==============================] - 1s 45ms/step - loss: 0.4978 - accuracy: 0.8611 - val_loss: 0.5616 - val_accuracy: 0.8167\n",
      "Epoch 79/100\n",
      "17/17 [==============================] - 1s 45ms/step - loss: 0.4925 - accuracy: 0.8639 - val_loss: 0.5609 - val_accuracy: 0.8333\n",
      "Epoch 80/100\n",
      "17/17 [==============================] - 1s 46ms/step - loss: 0.4877 - accuracy: 0.8630 - val_loss: 0.5552 - val_accuracy: 0.8167\n",
      "Epoch 81/100\n",
      "17/17 [==============================] - 1s 45ms/step - loss: 0.4828 - accuracy: 0.8676 - val_loss: 0.5556 - val_accuracy: 0.8083\n",
      "Epoch 82/100\n",
      "17/17 [==============================] - 1s 45ms/step - loss: 0.4782 - accuracy: 0.8667 - val_loss: 0.5494 - val_accuracy: 0.8083\n",
      "Epoch 83/100\n",
      "17/17 [==============================] - 1s 55ms/step - loss: 0.4731 - accuracy: 0.8704 - val_loss: 0.5500 - val_accuracy: 0.8000\n",
      "Epoch 84/100\n",
      "17/17 [==============================] - 1s 44ms/step - loss: 0.4684 - accuracy: 0.8713 - val_loss: 0.5445 - val_accuracy: 0.8083\n",
      "Epoch 85/100\n",
      "17/17 [==============================] - 1s 43ms/step - loss: 0.4638 - accuracy: 0.8731 - val_loss: 0.5455 - val_accuracy: 0.8000\n",
      "Epoch 86/100\n",
      "17/17 [==============================] - 1s 43ms/step - loss: 0.4595 - accuracy: 0.8731 - val_loss: 0.5403 - val_accuracy: 0.8000\n",
      "Epoch 87/100\n",
      "17/17 [==============================] - 1s 45ms/step - loss: 0.4551 - accuracy: 0.8750 - val_loss: 0.5407 - val_accuracy: 0.8083\n",
      "Epoch 88/100\n",
      "17/17 [==============================] - 1s 43ms/step - loss: 0.4511 - accuracy: 0.8778 - val_loss: 0.5349 - val_accuracy: 0.8000\n",
      "Epoch 89/100\n",
      "17/17 [==============================] - 1s 44ms/step - loss: 0.4467 - accuracy: 0.8796 - val_loss: 0.5361 - val_accuracy: 0.8167\n",
      "Epoch 90/100\n",
      "17/17 [==============================] - 1s 44ms/step - loss: 0.4427 - accuracy: 0.8843 - val_loss: 0.5309 - val_accuracy: 0.8000\n",
      "Epoch 91/100\n",
      "17/17 [==============================] - 1s 43ms/step - loss: 0.4383 - accuracy: 0.8824 - val_loss: 0.5333 - val_accuracy: 0.8083\n",
      "Epoch 92/100\n",
      "17/17 [==============================] - 1s 44ms/step - loss: 0.4345 - accuracy: 0.8824 - val_loss: 0.5271 - val_accuracy: 0.8083\n",
      "Epoch 93/100\n",
      "17/17 [==============================] - 1s 45ms/step - loss: 0.4301 - accuracy: 0.8833 - val_loss: 0.5307 - val_accuracy: 0.8083\n",
      "Epoch 94/100\n",
      "17/17 [==============================] - 1s 46ms/step - loss: 0.4271 - accuracy: 0.8843 - val_loss: 0.5251 - val_accuracy: 0.8250\n",
      "Epoch 95/100\n",
      "17/17 [==============================] - 1s 49ms/step - loss: 0.4226 - accuracy: 0.8870 - val_loss: 0.5247 - val_accuracy: 0.8167\n",
      "Epoch 96/100\n",
      "17/17 [==============================] - 1s 43ms/step - loss: 0.4191 - accuracy: 0.8861 - val_loss: 0.5213 - val_accuracy: 0.8167\n",
      "Epoch 97/100\n",
      "17/17 [==============================] - 1s 43ms/step - loss: 0.4156 - accuracy: 0.8889 - val_loss: 0.5204 - val_accuracy: 0.8167\n",
      "Epoch 98/100\n",
      "17/17 [==============================] - 1s 44ms/step - loss: 0.4120 - accuracy: 0.8880 - val_loss: 0.5172 - val_accuracy: 0.8250\n",
      "Epoch 99/100\n",
      "17/17 [==============================] - 1s 46ms/step - loss: 0.4085 - accuracy: 0.8898 - val_loss: 0.5164 - val_accuracy: 0.8167\n",
      "Epoch 100/100\n",
      "17/17 [==============================] - 1s 43ms/step - loss: 0.4051 - accuracy: 0.8926 - val_loss: 0.5144 - val_accuracy: 0.8250\n"
     ]
    }
   ],
   "source": [
    "train_dataset = tf.data.Dataset.from_tensor_slices((X_train, Y_train)).batch(64)\n",
    "test_dataset = tf.data.Dataset.from_tensor_slices((X_test, Y_test)).batch(64)\n",
    "history = conv_model.fit(train_dataset, epochs=100, validation_data=test_dataset)"
   ]
  },
  {
   "cell_type": "markdown",
   "metadata": {},
   "source": [
    "<a name='5'></a>\n",
    "## 5 - History Object \n",
    "\n",
    "The history object is an output of the `.fit()` operation, and provides a record of all the loss and metric values in memory. It's stored as a dictionary that you can retrieve at `history.history`: "
   ]
  },
  {
   "cell_type": "code",
   "execution_count": 25,
   "metadata": {},
   "outputs": [
    {
     "data": {
      "text/plain": "{'loss': [1.8507542610168457,\n  1.788848876953125,\n  1.7818621397018433,\n  1.7760013341903687,\n  1.7678090333938599,\n  1.758188247680664,\n  1.7465468645095825,\n  1.7330397367477417,\n  1.71619713306427,\n  1.6945431232452393,\n  1.6658741235733032,\n  1.6305427551269531,\n  1.5910062789916992,\n  1.5473899841308594,\n  1.5026904344558716,\n  1.4567694664001465,\n  1.4129010438919067,\n  1.3712685108184814,\n  1.3325546979904175,\n  1.296265721321106,\n  1.2629467248916626,\n  1.2308766841888428,\n  1.2004585266113281,\n  1.1709572076797485,\n  1.1427098512649536,\n  1.1169108152389526,\n  1.0908584594726562,\n  1.0673214197158813,\n  1.0433688163757324,\n  1.019091010093689,\n  0.9971989393234253,\n  0.9759649038314819,\n  0.9554296135902405,\n  0.9359167218208313,\n  0.9175976514816284,\n  0.899922251701355,\n  0.8827369213104248,\n  0.8662470579147339,\n  0.8506790995597839,\n  0.8354421854019165,\n  0.8211458921432495,\n  0.8068162798881531,\n  0.7936500906944275,\n  0.7803055644035339,\n  0.768110990524292,\n  0.7561807632446289,\n  0.744435727596283,\n  0.7332392930984497,\n  0.7222464680671692,\n  0.711563766002655,\n  0.7012113332748413,\n  0.6911888122558594,\n  0.6812079548835754,\n  0.6714891791343689,\n  0.6620500087738037,\n  0.6528978943824768,\n  0.6440054774284363,\n  0.6355082392692566,\n  0.6269672513008118,\n  0.618699848651886,\n  0.6103764176368713,\n  0.6022806763648987,\n  0.5943189263343811,\n  0.5865340828895569,\n  0.5788167715072632,\n  0.5717246532440186,\n  0.5648992657661438,\n  0.5577337145805359,\n  0.5511911511421204,\n  0.5443052053451538,\n  0.5382903814315796,\n  0.5316233038902283,\n  0.5258327722549438,\n  0.5195428133010864,\n  0.5139429569244385,\n  0.5083253979682922,\n  0.5031254291534424,\n  0.49775034189224243,\n  0.49250397086143494,\n  0.4877108633518219,\n  0.48277390003204346,\n  0.4781893193721771,\n  0.4730655550956726,\n  0.4684133529663086,\n  0.4637933373451233,\n  0.459501177072525,\n  0.45511752367019653,\n  0.4510887861251831,\n  0.4466803967952728,\n  0.4426663815975189,\n  0.4382568597793579,\n  0.43453848361968994,\n  0.43013060092926025,\n  0.42709243297576904,\n  0.422641783952713,\n  0.41913947463035583,\n  0.41562676429748535,\n  0.41197505593299866,\n  0.4084932208061218,\n  0.4051423668861389],\n 'accuracy': [0.18518517911434174,\n  0.18425926566123962,\n  0.23055554926395416,\n  0.28333333134651184,\n  0.3324074149131775,\n  0.35277777910232544,\n  0.4000000059604645,\n  0.42500001192092896,\n  0.4185185134410858,\n  0.4277777671813965,\n  0.4296296238899231,\n  0.4472222328186035,\n  0.4564814865589142,\n  0.4749999940395355,\n  0.49537035822868347,\n  0.5055555701255798,\n  0.5074074268341064,\n  0.5231481194496155,\n  0.5342592597007751,\n  0.5509259104728699,\n  0.5555555820465088,\n  0.5740740895271301,\n  0.5879629850387573,\n  0.6018518805503845,\n  0.6101852059364319,\n  0.6175925731658936,\n  0.6379629373550415,\n  0.644444465637207,\n  0.6564815044403076,\n  0.6675925850868225,\n  0.6740740537643433,\n  0.6796296238899231,\n  0.6870370507240295,\n  0.6962962746620178,\n  0.7055555582046509,\n  0.7138888835906982,\n  0.7194444537162781,\n  0.730555534362793,\n  0.7314814925193787,\n  0.7361111044883728,\n  0.7444444298744202,\n  0.7453703880310059,\n  0.7481481432914734,\n  0.7527777552604675,\n  0.7555555701255798,\n  0.7648147940635681,\n  0.769444465637207,\n  0.7740740776062012,\n  0.7777777910232544,\n  0.7842592597007751,\n  0.7888888716697693,\n  0.7935185432434082,\n  0.7962962985038757,\n  0.7990740537643433,\n  0.8027777671813965,\n  0.8074073791503906,\n  0.8092592358589172,\n  0.8185185194015503,\n  0.8203703761100769,\n  0.8212962746620178,\n  0.8277778029441833,\n  0.8287037014961243,\n  0.8305555582046509,\n  0.8342592716217041,\n  0.8361111283302307,\n  0.8379629850387573,\n  0.8388888835906982,\n  0.8416666388511658,\n  0.8435184955596924,\n  0.845370352268219,\n  0.8462963104248047,\n  0.8490740656852722,\n  0.8518518805503845,\n  0.8537036776542664,\n  0.855555534362793,\n  0.8574073910713196,\n  0.8574073910713196,\n  0.8611111044883728,\n  0.8638888597488403,\n  0.8629629611968994,\n  0.8675925731658936,\n  0.8666666746139526,\n  0.8703703880310059,\n  0.8712962865829468,\n  0.8731481432914734,\n  0.8731481432914734,\n  0.875,\n  0.8777777552604675,\n  0.8796296119689941,\n  0.8842592835426331,\n  0.8824074268341064,\n  0.8824074268341064,\n  0.8833333253860474,\n  0.8842592835426331,\n  0.8870370388031006,\n  0.8861111402511597,\n  0.8888888955116272,\n  0.8879629373550415,\n  0.8898147940635681,\n  0.8925926089286804],\n 'val_loss': [1.7969361543655396,\n  1.784986972808838,\n  1.7812812328338623,\n  1.7739886045455933,\n  1.7658718824386597,\n  1.7567375898361206,\n  1.7456090450286865,\n  1.7317451238632202,\n  1.7145164012908936,\n  1.6933106184005737,\n  1.6640331745147705,\n  1.6300338506698608,\n  1.5932039022445679,\n  1.5534179210662842,\n  1.5134836435317993,\n  1.4749293327331543,\n  1.4347634315490723,\n  1.3963676691055298,\n  1.359904170036316,\n  1.3236536979675293,\n  1.2901227474212646,\n  1.2560678720474243,\n  1.2241610288619995,\n  1.1936792135238647,\n  1.1639113426208496,\n  1.1356974840164185,\n  1.1074544191360474,\n  1.081311583518982,\n  1.0559942722320557,\n  1.0316468477249146,\n  1.0086978673934937,\n  0.9866682887077332,\n  0.9654462337493896,\n  0.9457639455795288,\n  0.9266393184661865,\n  0.9086120128631592,\n  0.8913520574569702,\n  0.8749749064445496,\n  0.8591591119766235,\n  0.8437049984931946,\n  0.8292267918586731,\n  0.8149462342262268,\n  0.8014251589775085,\n  0.788862943649292,\n  0.7767814993858337,\n  0.7653034925460815,\n  0.7543802857398987,\n  0.7438840866088867,\n  0.7339434027671814,\n  0.7242377996444702,\n  0.7151832580566406,\n  0.7063369154930115,\n  0.6968888640403748,\n  0.6884872913360596,\n  0.6806575655937195,\n  0.6732511520385742,\n  0.6658743619918823,\n  0.658466100692749,\n  0.6515436172485352,\n  0.6446347832679749,\n  0.6376039981842041,\n  0.6313828229904175,\n  0.6259974241256714,\n  0.6206318140029907,\n  0.6157761812210083,\n  0.6109337210655212,\n  0.6059074997901917,\n  0.6019366979598999,\n  0.5966107845306396,\n  0.5925010442733765,\n  0.5882406830787659,\n  0.5844143629074097,\n  0.5795042514801025,\n  0.5764756798744202,\n  0.573083221912384,\n  0.5689666271209717,\n  0.5665867924690247,\n  0.5615522265434265,\n  0.560856819152832,\n  0.5552127957344055,\n  0.5555875301361084,\n  0.5493974089622498,\n  0.5500441193580627,\n  0.5445173382759094,\n  0.5455286502838135,\n  0.540273129940033,\n  0.5406845211982727,\n  0.5348532795906067,\n  0.536056637763977,\n  0.5308807492256165,\n  0.5332916975021362,\n  0.5270771384239197,\n  0.5306916236877441,\n  0.5251331925392151,\n  0.5246766209602356,\n  0.5212600231170654,\n  0.5204445123672485,\n  0.5172474980354309,\n  0.5164066553115845,\n  0.5144126415252686],\n 'val_accuracy': [0.1666666716337204,\n  0.19166666269302368,\n  0.22499999403953552,\n  0.30000001192092896,\n  0.34166666865348816,\n  0.3583333194255829,\n  0.4000000059604645,\n  0.4166666567325592,\n  0.4000000059604645,\n  0.375,\n  0.4166666567325592,\n  0.40833333134651184,\n  0.3916666805744171,\n  0.4583333432674408,\n  0.4416666626930237,\n  0.44999998807907104,\n  0.46666666865348816,\n  0.4749999940395355,\n  0.4749999940395355,\n  0.5166666507720947,\n  0.5583333373069763,\n  0.5666666626930237,\n  0.5666666626930237,\n  0.5666666626930237,\n  0.5666666626930237,\n  0.6000000238418579,\n  0.6083333492279053,\n  0.625,\n  0.6333333253860474,\n  0.625,\n  0.6333333253860474,\n  0.6499999761581421,\n  0.6583333611488342,\n  0.675000011920929,\n  0.675000011920929,\n  0.699999988079071,\n  0.699999988079071,\n  0.7166666388511658,\n  0.7333333492279053,\n  0.7250000238418579,\n  0.7250000238418579,\n  0.7416666746139526,\n  0.7416666746139526,\n  0.7416666746139526,\n  0.75,\n  0.7583333253860474,\n  0.7666666507720947,\n  0.7749999761581421,\n  0.7833333611488342,\n  0.7833333611488342,\n  0.7916666865348816,\n  0.800000011920929,\n  0.800000011920929,\n  0.800000011920929,\n  0.800000011920929,\n  0.800000011920929,\n  0.8166666626930237,\n  0.8166666626930237,\n  0.8166666626930237,\n  0.824999988079071,\n  0.8166666626930237,\n  0.8166666626930237,\n  0.8083333373069763,\n  0.8083333373069763,\n  0.8083333373069763,\n  0.8083333373069763,\n  0.8083333373069763,\n  0.800000011920929,\n  0.8083333373069763,\n  0.800000011920929,\n  0.824999988079071,\n  0.8166666626930237,\n  0.8333333134651184,\n  0.824999988079071,\n  0.8416666388511658,\n  0.824999988079071,\n  0.8333333134651184,\n  0.8166666626930237,\n  0.8333333134651184,\n  0.8166666626930237,\n  0.8083333373069763,\n  0.8083333373069763,\n  0.800000011920929,\n  0.8083333373069763,\n  0.800000011920929,\n  0.800000011920929,\n  0.8083333373069763,\n  0.800000011920929,\n  0.8166666626930237,\n  0.800000011920929,\n  0.8083333373069763,\n  0.8083333373069763,\n  0.8083333373069763,\n  0.824999988079071,\n  0.8166666626930237,\n  0.8166666626930237,\n  0.8166666626930237,\n  0.824999988079071,\n  0.8166666626930237,\n  0.824999988079071]}"
     },
     "execution_count": 25,
     "metadata": {},
     "output_type": "execute_result"
    }
   ],
   "source": [
    "history.history"
   ]
  },
  {
   "cell_type": "markdown",
   "metadata": {},
   "source": [
    "Now visualize the loss over time using `history.history`: "
   ]
  },
  {
   "cell_type": "code",
   "execution_count": 26,
   "metadata": {},
   "outputs": [
    {
     "name": "stderr",
     "output_type": "stream",
     "text": [
      "C:\\Users\\tugaygül\\PycharmProjects\\MLcoursera\\venv\\lib\\site-packages\\pandas\\core\\frame.py:4300: SettingWithCopyWarning: \n",
      "A value is trying to be set on a copy of a slice from a DataFrame\n",
      "\n",
      "See the caveats in the documentation: https://pandas.pydata.org/pandas-docs/stable/user_guide/indexing.html#returning-a-view-versus-a-copy\n",
      "  return super().rename(\n"
     ]
    },
    {
     "data": {
      "text/plain": "[Text(0, 0.5, 'Accuracy'), Text(0.5, 0, 'Epoch')]"
     },
     "execution_count": 26,
     "metadata": {},
     "output_type": "execute_result"
    },
    {
     "data": {
      "text/plain": "<Figure size 1200x800 with 1 Axes>",
      "image/png": "[encoded data removed]"
     },
     "metadata": {},
     "output_type": "display_data"
    },
    {
     "data": {
      "text/plain": "<Figure size 1200x800 with 1 Axes>",
      "image/png": "[encoded data removed]"
     },
     "metadata": {},
     "output_type": "display_data"
    }
   ],
   "source": [
    "# The history.history[\"loss\"] entry is a dictionary with as many values as epochs that the\n",
    "# model was trained on. \n",
    "df_loss_acc = pd.DataFrame(history.history)\n",
    "df_loss= df_loss_acc[['loss','val_loss']]\n",
    "df_loss.rename(columns={'loss':'train','val_loss':'validation'},inplace=True)\n",
    "df_acc= df_loss_acc[['accuracy','val_accuracy']]\n",
    "df_acc.rename(columns={'accuracy':'train','val_accuracy':'validation'},inplace=True)\n",
    "df_loss.plot(title='Model loss',figsize=(12,8)).set(xlabel='Epoch',ylabel='Loss')\n",
    "df_acc.plot(title='Model Accuracy',figsize=(12,8)).set(xlabel='Epoch',ylabel='Accuracy')"
   ]
  },
  {
   "cell_type": "markdown",
   "metadata": {},
   "source": [
    "**Congratulations**! You've finished the assignment and built two models: One that recognizes  smiles, and another that recognizes SIGN language with almost 80% accuracy on the test set. In addition to that, you now also understand the applications of two Keras APIs: Sequential and Functional. Nicely done! \n",
    "\n",
    "By now, you know a bit about how the Functional API works and may have glimpsed the possibilities. In your next assignment, you'll really get a feel for its power when you get the opportunity to build a very deep ConvNet, using ResNets! "
   ]
  },
  {
   "cell_type": "markdown",
   "metadata": {},
   "source": [
    "<a name='6'></a>\n",
    "## 6 - Bibliography\n",
    "\n",
    "You're always encouraged to read the official documentation. To that end, you can find the docs for the Sequential and Functional APIs here: \n",
    "\n",
    "https://www.tensorflow.org/guide/keras/sequential_model\n",
    "\n",
    "https://www.tensorflow.org/guide/keras/functional"
   ]
  },
  {
   "cell_type": "code",
   "execution_count": null,
   "outputs": [],
   "source": [],
   "metadata": {
    "collapsed": false
   }
  }
 ],
 "metadata": {
  "coursera": {
   "course_slug": "convolutional-neural-networks",
   "graded_item_id": "bwbJV",
   "launcher_item_id": "0TkXB"
  },
  "kernelspec": {
   "display_name": "Python 3",
   "language": "python",
   "name": "python3"
  },
  "language_info": {
   "codemirror_mode": {
    "name": "ipython",
    "version": 3
   },
   "file_extension": ".py",
   "mimetype": "text/x-python",
   "name": "python",
   "nbconvert_exporter": "python",
   "pygments_lexer": "ipython3",
   "version": "3.7.6"
  }
 },
 "nbformat": 4,
 "nbformat_minor": 2
}
